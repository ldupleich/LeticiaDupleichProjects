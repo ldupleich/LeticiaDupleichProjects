{
 "cells": [
  {
   "cell_type": "markdown",
   "id": "7b3602e6-8375-4bfc-9ac0-05a5c28b29e3",
   "metadata": {},
   "source": [
    "# Preprocessing"
   ]
  },
  {
   "cell_type": "markdown",
   "id": "82794d58-d61e-4094-8f28-6bb408ca209a",
   "metadata": {},
   "source": [
    "## 1) Genre and Themes Encoding"
   ]
  },
  {
   "cell_type": "markdown",
   "id": "bb05a07c-792c-4a44-b827-8dd0c45962bf",
   "metadata": {},
   "source": [
    "### 1.1) Removing Columns\n",
    "\n",
    "While we kept the numVotes column in the dataset for the EDA, we will remove it now. Similar to end year, the number of votes the movie receives continues to increase sizably after the end date of the movie showing. This would be trying to predict the past from the future and would not help our client in predicting the future from the past."
   ]
  },
  {
   "cell_type": "markdown",
   "id": "814cac4a",
   "metadata": {},
   "source": [
    "\n",
    "The storylines column unfortunately contained almost only reviews in place of the storyline. This was caused by a scraping issue we had which we initially thought was only the first half of each entry (first review then storyline) but it was that case that for almost all of the entries. At first, we thought perhaps there could be a way we could still include the reviews as an input for our model, but we soon realized that getting 1 review for each movie would be introducing noise. Moreover, many of the reviews have nothing to do with the actual content (storyline) of the movie but rather the actors, which our model is already using. Hence, we decided it was best to remove the storyline (i.e. the review) column."
   ]
  },
  {
   "cell_type": "code",
   "execution_count": 1,
   "id": "595326c3-2475-4531-b9b5-67151231898b",
   "metadata": {},
   "outputs": [
    {
     "name": "stderr",
     "output_type": "stream",
     "text": [
      "/home/pluseal/.local/lib/python3.10/site-packages/tqdm/auto.py:21: TqdmWarning: IProgress not found. Please update jupyter and ipywidgets. See https://ipywidgets.readthedocs.io/en/stable/user_install.html\n",
      "  from .autonotebook import tqdm as notebook_tqdm\n"
     ]
    }
   ],
   "source": [
    "import pandas as pd\n",
    "import numpy as np\n",
    "import matplotlib.pyplot as plt\n",
    "from sklearn.decomposition import PCA\n",
    "from vaderSentiment.vaderSentiment import SentimentIntensityAnalyzer\n",
    "from bertopic import BERTopic\n",
    "import random\n",
    "from sklearn.preprocessing import MultiLabelBinarizer\n",
    "from factor_analyzer.rotator import Rotator\n",
    "from collections import Counter\n",
    "import itertools\n",
    "import ast"
   ]
  },
  {
   "cell_type": "code",
   "execution_count": 2,
   "id": "572fedda",
   "metadata": {},
   "outputs": [],
   "source": [
    "# Load the dataset\n",
    "movie_dataset = pd.read_csv(\"datasets/7500_movies_dataset.csv\")\n",
    "\n",
    "#Remove numVotes and storyline column\n",
    "movie_dataset = movie_dataset.drop(['storyline', 'numVotes', 'Unnamed: 0'], axis=1)"
   ]
  },
  {
   "cell_type": "markdown",
   "id": "3beea51a-364b-4d6e-a5c8-908eab0b37b6",
   "metadata": {},
   "source": [
    "<hr style=\"height:2px;border-width:0;color:red;background-color:red\">\n",
    "\n",
    "### 1.2) Encoding Themes\n",
    "\n",
    "Because we had highly specific and unique themes (essentially as many of each as there are movies), using standard binary encoding wasn't possible. We still wanted to use them as an input as we imagined they would be valuable to determining a movie's success. So, we decided to use sentiment and topic analysis. "
   ]
  },
  {
   "cell_type": "markdown",
   "id": "c4c3eafc",
   "metadata": {},
   "source": [
    "Before we get into the categorizing of themes, lets first view some instances of them:"
   ]
  },
  {
   "cell_type": "code",
   "execution_count": 3,
   "id": "5a7b804e",
   "metadata": {},
   "outputs": [
    {
     "name": "stdout",
     "output_type": "stream",
     "text": [
      "Themes: ['based on video game', 'gore', 'mortal kombat', 'reboot', 'two word title'] (<class 'str'>)\n",
      "------------------------------------------------------------\n",
      "Themes: ['assassin', 'hitman', 'gun', 'weapon', 'gun fight'] (<class 'str'>)\n",
      "------------------------------------------------------------\n",
      "Themes: ['barry allen character', 'the flash character', 'dc extended universe', 'multiverse', 'struck by lightning'] (<class 'str'>)\n",
      "------------------------------------------------------------\n",
      "Themes: ['witch', 'based on novel', 'coven', 'witchcraft', 'taking off shoes'] (<class 'str'>)\n",
      "------------------------------------------------------------\n",
      "Themes: ['jungle', 'boat', 'amazon river', 'riverboat', 'gay brother'] (<class 'str'>)\n",
      "------------------------------------------------------------\n"
     ]
    }
   ],
   "source": [
    "for row in movie_dataset['themes'].head(5):\n",
    "    print(f\"Themes: {row} ({type(row)})\")\n",
    "    print('-' * 60)"
   ]
  },
  {
   "cell_type": "markdown",
   "id": "41d9cb0a",
   "metadata": {},
   "source": [
    "**1.2.1) Sentiment Analysis**\n",
    "\n",
    "Now, to use the themes column, we have to turn it into categories. We have decided to use the sentiments and topics that can be extracted from this column. First, lets create some functions to better preprocess the themes and classify the sentiment:"
   ]
  },
  {
   "cell_type": "code",
   "execution_count": 4,
   "id": "ba5fc920-f79b-41bd-be4d-677eed58dc1d",
   "metadata": {},
   "outputs": [],
   "source": [
    "def clean_themes(x):\n",
    "    \"\"\"\n",
    "    Turn themes into strings if they are a list or if they are a list inside a string (as is the case in our data).\n",
    "    \"\"\"\n",
    "    if isinstance(x, list):\n",
    "        return ' '.join(x).strip()\n",
    "    try:\n",
    "        parsed = eval(x)\n",
    "        if isinstance(parsed, list):\n",
    "            return ' '.join(parsed).strip()\n",
    "    except Exception:\n",
    "        pass\n",
    "    return ''\n",
    "\n",
    "\n",
    "def equate_empty_themes(x):\n",
    "    \"\"\"\n",
    "    Ensure empty entries are of the same type to avoid future problems in topic extraction.\n",
    "    \"\"\"\n",
    "    # empty-looking strings\n",
    "    if isinstance(x, str) and x.strip() in ['', '[, , ]', '[, , ,]', '[ , , ]']:\n",
    "        return ''\n",
    "    # string that looks like a Python list\n",
    "    try:\n",
    "        parsed = eval(x)\n",
    "        if isinstance(parsed, list) and all(not str(w).strip() for w in parsed):\n",
    "            return ''\n",
    "    except Exception:\n",
    "        pass\n",
    "    return x\n",
    "\n",
    "\n",
    "def classify_sentiment(score):\n",
    "    if score >= 0.05:\n",
    "        return 'positive'\n",
    "    elif score <= -0.05:\n",
    "        return 'negative'\n",
    "    else:\n",
    "        return 'neutral'"
   ]
  },
  {
   "cell_type": "markdown",
   "id": "67a094d1-ba9c-473b-b184-0d80b3fe86c7",
   "metadata": {},
   "source": [
    "Next we'll employ BERT and vaderSentiment, two common tools to extract sentences and topics from natural language texts. First lets view some examples of themes:"
   ]
  },
  {
   "cell_type": "code",
   "execution_count": 5,
   "id": "48395cc6-8b81-4fcf-82dd-032a199bad3d",
   "metadata": {},
   "outputs": [
    {
     "name": "stdout",
     "output_type": "stream",
     "text": [
      "Some examples of topic sentiments:\n",
      "\n",
      "1: based on video game gore mortal kombat reboot two word title\n",
      "2: assassin hitman gun weapon gun fight\n",
      "3: barry allen character the flash character dc extended universe multiverse struck by lightning\n",
      "4: witch based on novel coven witchcraft taking off shoes\n",
      "5: jungle boat amazon river riverboat gay brother\n"
     ]
    }
   ],
   "source": [
    "# Turn strings in the form of python lists to actual lists\n",
    "movie_dataset['themes'] = movie_dataset['themes'].fillna('').astype(str).apply(clean_themes)\n",
    "\n",
    "print(\"Some examples of topic sentiments:\\n\")\n",
    "for i, val in enumerate(movie_dataset['themes'].head(5), 1):\n",
    "    print(f\"{i}: {val}\")"
   ]
  },
  {
   "cell_type": "markdown",
   "id": "7dc652b4-334d-4191-b1d0-2beddfe498b8",
   "metadata": {},
   "source": [
    "Now we can apply sentiment analysis on these themes:"
   ]
  },
  {
   "cell_type": "code",
   "execution_count": 6,
   "id": "2d19b2ce-6153-4d5a-9936-ddc9bc4dd2f4",
   "metadata": {},
   "outputs": [
    {
     "name": "stdout",
     "output_type": "stream",
     "text": [
      "theme_sentiment_label\n",
      "neutral     4293\n",
      "negative    1877\n",
      "positive    1399\n",
      "Name: count, dtype: int64\n"
     ]
    }
   ],
   "source": [
    "analyzer = SentimentIntensityAnalyzer()\n",
    "movie_dataset['theme_sentiment'] = movie_dataset['themes'].apply(lambda x: analyzer.polarity_scores(x)['compound'])\n",
    "\n",
    "movie_dataset['theme_sentiment_label'] = movie_dataset['theme_sentiment'].apply(classify_sentiment)\n",
    "\n",
    "# Show frequencies\n",
    "print(movie_dataset['theme_sentiment_label'].value_counts())"
   ]
  },
  {
   "cell_type": "markdown",
   "id": "3f1cc7b7-ed39-4c4d-b196-faf6ecc2c712",
   "metadata": {},
   "source": [
    "Lets view some examples of themes classified as each sentiment:"
   ]
  },
  {
   "cell_type": "code",
   "execution_count": 7,
   "id": "c6bc6e5a-3020-4952-b0f0-df0f2a398e54",
   "metadata": {},
   "outputs": [
    {
     "name": "stdout",
     "output_type": "stream",
     "text": [
      "\n",
      "--- 5 random themes classified as positive ---\n",
      "[daughter prince love husband wife relationship period piece]\n",
      "[love]\n",
      "[female frontal nudity female nudity escape psychological thriller female rear nudity]\n",
      "[love family relationships fight brawl one person army action]\n",
      "[scientist couple love]\n",
      "\n",
      "--- 5 random themes classified as negative ---\n",
      "[limited dialogue apocalyptic cult ancient evil devil baby human sacrifice]\n",
      "[folk horror supernatural horror]\n",
      "[cat ghost cat co production based on manga anime animation]\n",
      "[greed advocate lawyer dark comedy]\n",
      "[tambura band anger]\n",
      "\n",
      "--- 5 random themes classified as neutral ---\n",
      "[soldier]\n",
      "[]\n",
      "[]\n",
      "[pregnancy pet cat old house country side husband wife relationship]\n",
      "[]\n"
     ]
    }
   ],
   "source": [
    "for label in ['positive', 'negative', 'neutral']:\n",
    "    print(f\"\\n--- 5 random themes classified as {label} ---\")\n",
    "    sample = movie_dataset[movie_dataset['theme_sentiment_label'] == label]['themes'].sample(5, random_state=42)\n",
    "    for theme in sample:\n",
    "        print(f\"[{theme}]\")"
   ]
  },
  {
   "cell_type": "markdown",
   "id": "9f141ca2-9d8f-4d38-81a5-ceb20619afff",
   "metadata": {},
   "source": [
    "**1.2.2) Sentiment of Movie Titles**"
   ]
  },
  {
   "cell_type": "markdown",
   "id": "5dc10fdc",
   "metadata": {},
   "source": [
    "Next lets extract the sentiments from the movie titles:"
   ]
  },
  {
   "cell_type": "code",
   "execution_count": 8,
   "id": "c00978fe",
   "metadata": {},
   "outputs": [
    {
     "name": "stdout",
     "output_type": "stream",
     "text": [
      "1: Mortal Kombat  |  sentiment: neutral\n",
      "2: The Killer's Game  |  sentiment: neutral\n",
      "3: The Flash  |  sentiment: neutral\n",
      "4: The Witches  |  sentiment: neutral\n",
      "5: Jungle Cruise  |  sentiment: neutral\n",
      "6: Hellraiser  |  sentiment: neutral\n",
      "7: The Amateur  |  sentiment: positive\n",
      "8: Lost Girls and Love Hotels  |  sentiment: neutral\n",
      "9: Fantasy Island  |  sentiment: neutral\n",
      "10: A Journal for Jordan  |  sentiment: neutral\n"
     ]
    }
   ],
   "source": [
    "#Do the same for primary titles\n",
    "movie_dataset['primaryTitle'] = movie_dataset['primaryTitle'].fillna('').astype(str).str.strip()\n",
    "\n",
    "#Apply vader sentiment analysis\n",
    "movie_dataset['title_sentiment'] = movie_dataset['primaryTitle'].apply(lambda x: analyzer.polarity_scores(x)['compound'])\n",
    "\n",
    "#Classify for Interpretability\n",
    "movie_dataset['title_sentiment_label'] = movie_dataset['title_sentiment'].apply(classify_sentiment)\n",
    "\n",
    "#Print first 10 for checks of accuracy and type\n",
    "for i, val in enumerate(movie_dataset['primaryTitle'].head(10), 1):\n",
    "    print(f\"{i}: {val}  |  sentiment: {movie_dataset['title_sentiment_label'].iloc[i]}\")"
   ]
  },
  {
   "cell_type": "markdown",
   "id": "6b62df91",
   "metadata": {},
   "source": [
    "As we can see above, the sentiment analysis is inconsequential and inaccurate for titles. This is likely because they are very short and uninformative blank statements that usually contain very implicit information about the movie. \n",
    "\n",
    "For this reason, we would like to remove this column without losing all information within the title. Since we are already extracting contents from a combination of genres and themes, which are longer, more extensive and accurate, we decided it would be best to remove the primary title in its entirety."
   ]
  },
  {
   "cell_type": "code",
   "execution_count": 9,
   "id": "5df1445c",
   "metadata": {},
   "outputs": [],
   "source": [
    "movie_dataset.drop(columns=['primaryTitle', 'title_sentiment', 'title_sentiment_label'], inplace=True)"
   ]
  },
  {
   "cell_type": "markdown",
   "id": "58c71190-77ee-4a0a-9db3-adbec17ded64",
   "metadata": {},
   "source": [
    "**1.2.3) Theme Topic Clustering**"
   ]
  },
  {
   "cell_type": "markdown",
   "id": "7b397097",
   "metadata": {},
   "source": [
    "Next lets extract the topic clusters:"
   ]
  },
  {
   "cell_type": "code",
   "execution_count": 10,
   "id": "eddd50ed",
   "metadata": {},
   "outputs": [
    {
     "name": "stdout",
     "output_type": "stream",
     "text": [
      "Number of total topic clusters found: 139\n",
      "\n",
      "Number of meaningfultopic clusters found: 138\n",
      "\n",
      "Example of a topic: \n",
      " Topic                                                                 -1\n",
      "Count                                                               1913\n",
      "Name                                   -1_relationship_female_nudity_son\n",
      "Representation         [relationship, female, nudity, son, boy, fathe...\n",
      "Representative_Docs    [woman father male nudity father son relations...\n",
      "Name: 0, dtype: object\n"
     ]
    }
   ],
   "source": [
    "topic_model = BERTopic()\n",
    "topics, probs = topic_model.fit_transform(movie_dataset['themes'])\n",
    "\n",
    "# Number of topics (excluding outliers labeled -1)\n",
    "n_topics = len(set([t for t in topics]))\n",
    "n_meaningful_topics = len(set([t for t in topics if t != -1]))\n",
    "print(f\"Number of total topic clusters found: {n_topics}\\n\")\n",
    "print(f\"Number of meaningfultopic clusters found: {n_meaningful_topics}\\n\")\n",
    "\n",
    "topic_info = topic_model.get_topic_info()\n",
    "print(\"Example of a topic: \\n\", topic_info.iloc[0])\n",
    "\n",
    "#Turn numeric outputs of BERT to cluster descriptors in natural language for interpretability\n",
    "topic_map = dict(zip(topic_info['Topic'], topic_info['Name']))\n",
    "movie_dataset['theme_topic'] = topics\n",
    "movie_dataset['theme_topic_label'] = movie_dataset['theme_topic'].map(topic_map)"
   ]
  },
  {
   "cell_type": "markdown",
   "id": "007ed287-927c-4175-a282-7b0f2cc2b78b",
   "metadata": {},
   "source": [
    "\n",
    "\n",
    "Lets view some examples of movies placed within these topic clusters:"
   ]
  },
  {
   "cell_type": "code",
   "execution_count": 11,
   "id": "c38be4c5",
   "metadata": {},
   "outputs": [
    {
     "name": "stdout",
     "output_type": "stream",
     "text": [
      "\n",
      "--- First 10 themes in cluster 78 ---\n",
      "['art robbery heist police officer storm', 'bank robbery bank heist acassusso buenos aires argentina buenos aires argentina based on real person', 'thief poker game panic room directed by star gambler', 'bank robbery london gang', 'bank heist epic action heist crime']\n",
      "\n",
      "--- First 10 themes in cluster 45 ---\n",
      "['male frontal nudity female full frontal nudity male full frontal nudity male pubic hair standing doggystyle vaginal sex', 'fear student fraternity hairy armpits fat boy', 'male pubic hair teenage boy full frontal nudity touching penis male full frontal nudity male nudity', 'male full frontal nudity male frontal nudity male pubic hair pubic hair male nudity', 'male nudity male full frontal nudity male frontal nudity pubic hair male pubic hair']\n",
      "\n",
      "--- First 10 themes in cluster 22 ---\n",
      "['survival ocean norway icy waters scuba diving', 'ocean diving swimming reference to jacques cousteau exploration', 'jungle jungle adventure', 'beach diving drowning', 'epic adventure']\n"
     ]
    }
   ],
   "source": [
    "random_ids = random.sample(list(topic_info['Topic']), 3)\n",
    "for cid in random_ids:\n",
    "    print(f\"\\n--- First 10 themes in cluster {cid} ---\")\n",
    "    print(movie_dataset[movie_dataset['theme_topic'] == cid]['themes'].head(5).to_list())"
   ]
  },
  {
   "cell_type": "markdown",
   "id": "498eeeb8",
   "metadata": {},
   "source": [
    "<hr style=\"height:2px;border-width:0;color:red;background-color:red\">\n",
    "\n",
    "### 1.3) Encoding Genres Using PCA\n",
    "\n",
    "We decided to use multiple hot encoding for genres because they aren't sentences written in natural language, but rather combinations of fixed terms such as \"horror\" and \"drama\". We also observed that some genres co-occurred more frequently than others, indicating the presence of covariances between them. \n",
    "\n",
    "To capture these dependencies and reduce dimensionality, we applied Principal Component Analysis (PCA). Specifically, we constructed a covariance matrix over the binary genre indicators and computed its eigenvectors and eigenvalues. We then selected the eigenvectors corresponding to the largest eigenvalues, those capturing the directions of highest variance in the genre space. This transformation allowed us to retain most of the genre-related information, reduce computational complexity, and lower the risk of overfitting. "
   ]
  },
  {
   "cell_type": "code",
   "execution_count": 12,
   "id": "b7b5c7c2",
   "metadata": {},
   "outputs": [],
   "source": [
    "movie_dataset['genres'] = movie_dataset['genres'].fillna('').apply(lambda x: [g for g in x.split(',')])\n",
    "mlb = MultiLabelBinarizer()\n",
    "genre_encoded = mlb.fit_transform(movie_dataset['genres'])\n",
    "\n",
    "# Initial PCA to examine variances captured by each PC.\n",
    "pca_temp = PCA()\n",
    "pca_temp.fit(genre_encoded)\n",
    "\n",
    "# Apply PCA with selected number of components\n",
    "pca_genres = PCA(n_components=0.99)"
   ]
  },
  {
   "cell_type": "markdown",
   "id": "76dd25df-a422-4303-86f6-2ca7ef4b9933",
   "metadata": {},
   "source": [
    "**1.3.1) Elbow Point**\n",
    "\n",
    "Let's see if graphing the number of principal components against the cumulative explained variance showcases an elbow point i.e. a radical change in variance explained per added PC:"
   ]
  },
  {
   "cell_type": "code",
   "execution_count": 13,
   "id": "aab8c299-9375-4c0a-ba5f-31f18947f8ab",
   "metadata": {},
   "outputs": [
    {
     "data": {
      "image/png": "[encoded data removed]",
      "text/plain": [
       "<Figure size 640x480 with 1 Axes>"
      ]
     },
     "metadata": {},
     "output_type": "display_data"
    }
   ],
   "source": [
    "# Cumulative explained variance\n",
    "cumulative_variance = np.cumsum(pca_temp.explained_variance_ratio_)\n",
    "\n",
    "# Plot\n",
    "plt.plot(range(1, len(cumulative_variance) + 1), cumulative_variance, marker='o')\n",
    "plt.xlabel('Number of Principal Components')\n",
    "plt.ylabel('Cumulative Explained Variance')\n",
    "plt.title('CDF Explained Variance to Number of Principal Components')\n",
    "plt.grid(True)\n",
    "plt.show()"
   ]
  },
  {
   "cell_type": "markdown",
   "id": "921f5e88",
   "metadata": {},
   "source": [
    "Although we don't see a perfect elbow point, we do see that explained variance per PC decreases sizably throughout the graph. We decided to put a cutoff point of 4% (1/25) because we originally had 25 genres and didn't want to include a variance direction that would be contributing less than an individual genre if all were uncorrelated and had equal variances. This heuristic would suggest that we use 8 components, all of which explain more than 1/25 or 4% of the variance. \n",
    "\n",
    "However, we also wanted to check where the slope change of the graph dropped below 0.5% from Principal Component to Principal Component to apply a heuristic based quasi elbow method. In the elbow method we landed on 6 PCs which wasn't far from 8 our initial heuristic found. But 6 components would explain less than 70% of the variance, which is a common threshhold for Principal Component Analysis. Hence, we decided to keep 8 components, explaining approximately 74% of the total variance, which is again around the common threshhold of 70-80%. We thought this would capture the important patterns in the data and would be less prone to noise."
   ]
  },
  {
   "cell_type": "code",
   "execution_count": 14,
   "id": "e5761fa9",
   "metadata": {},
   "outputs": [
    {
     "name": "stdout",
     "output_type": "stream",
     "text": [
      "Elbow heuristic suggests: 6 components\n",
      "Selected 8 components (≥ 4% variance each): [1 2 3 4 5 6 7 8]\n",
      "Total explained variance by first 8 PCs: 0.7507 (75.07%)\n"
     ]
    }
   ],
   "source": [
    "expl_var_ratio = pca_temp.explained_variance_ratio_\n",
    "diffs = np.diff(expl_var_ratio)\n",
    "elbow_index = np.argmax(abs(diffs) < 0.005) + 1  \n",
    "print(f\"Elbow heuristic suggests: {elbow_index} components\")\n",
    "\n",
    "# Select components that explain at least 4% of the variance\n",
    "selected_components = np.where(expl_var_ratio >= 0.04)[0]\n",
    "n_components = len(selected_components)\n",
    "\n",
    "print(f\"Selected {n_components} components (≥ 4% variance each): {selected_components + 1}\")\n",
    "\n",
    "total_explained = np.sum(pca_temp.explained_variance_ratio_[selected_components])\n",
    "print(f\"Total explained variance by first 8 PCs: {total_explained:.4f} ({total_explained * 100:.2f}%)\")"
   ]
  },
  {
   "cell_type": "markdown",
   "id": "87339ee1-64fc-4dc0-8327-c2cbe111414c",
   "metadata": {},
   "source": [
    "<hr style=\"height:2px;border-width:0;color:red;background-color:red\">\n",
    "\n",
    "### 1.4) Genres Varimax Rotation\n",
    "\n",
    "After the dimension reduction we applied to genres, we wanted to understand the meanings of the new reduced dimensions. To do so, we applied the varimax orthogonal rotation through which the principal components are rotated (as a whole keeping orthogonality) to make the factor loadings in each PC approach 0 or 1. This way, each rotated PC becomes interpretable and we understand the remaining Principal Components. "
   ]
  },
  {
   "cell_type": "code",
   "execution_count": 15,
   "id": "be6bcced-e296-4214-9c21-719c1d9afaff",
   "metadata": {},
   "outputs": [
    {
     "name": "stdout",
     "output_type": "stream",
     "text": [
      "\n",
      "PC 1 - Top 3 genres:\n",
      "Drama          0.947954\n",
      "Documentary    0.272589\n",
      "Horror         0.098876\n",
      "dtype: float64\n",
      "\n",
      "PC 2 - Top 3 genres:\n",
      "Comedy     0.920167\n",
      "Crime      0.241782\n",
      "Mystery    0.173579\n",
      "dtype: float64\n",
      "\n",
      "PC 3 - Top 3 genres:\n",
      "Action     0.933287\n",
      "Horror     0.201739\n",
      "Mystery    0.184483\n",
      "dtype: float64\n",
      "\n",
      "PC 4 - Top 3 genres:\n",
      "Documentary    0.459190\n",
      "Biography      0.384261\n",
      "Horror         0.360886\n",
      "dtype: float64\n",
      "\n",
      "PC 5 - Top 3 genres:\n",
      "Adventure    0.697614\n",
      "Animation    0.404209\n",
      "Family       0.392592\n",
      "dtype: float64\n",
      "\n",
      "PC 6 - Top 3 genres:\n",
      "Romance    0.868808\n",
      "Horror     0.385881\n",
      "Mystery    0.194584\n",
      "dtype: float64\n",
      "\n",
      "PC 7 - Top 3 genres:\n",
      "Thriller    0.933262\n",
      "Horror      0.217867\n",
      "Crime       0.175184\n",
      "dtype: float64\n",
      "\n",
      "PC 8 - Top 3 genres:\n",
      "Crime     0.803869\n",
      "Horror    0.515148\n",
      "Action    0.126398\n",
      "dtype: float64\n"
     ]
    }
   ],
   "source": [
    "rotator = Rotator()\n",
    "\n",
    "# Apply Varimax rotation\n",
    "rotated_genres = rotator.fit_transform(pca_temp.components_[:8].T)\n",
    "\n",
    "# Get genre feature names\n",
    "genre_names = list(mlb.classes_)  # array of genre strings, in same order as MultiLabelBinarizer\n",
    "\n",
    "# For each PC, show top 3 contributing genres by absolute loading\n",
    "for i in range(rotated_genres.shape[1]):  # iterate over PCs\n",
    "    print(f\"\\nPC {i+1} - Top 3 genres:\")\n",
    "    pc_loadings = pd.Series(rotated_genres[:, i], index=genre_names)\n",
    "    print(pc_loadings.abs().sort_values(ascending=False).head(3))"
   ]
  },
  {
   "cell_type": "markdown",
   "id": "2c8290ff-91a5-43e7-bc22-2106f1504550",
   "metadata": {},
   "source": [
    "Lets also view the genre frequencies:"
   ]
  },
  {
   "cell_type": "code",
   "execution_count": 16,
   "id": "459a6d36",
   "metadata": {},
   "outputs": [
    {
     "name": "stdout",
     "output_type": "stream",
     "text": [
      "           count\n",
      "Talk-Show      1\n",
      "Adult          1\n",
      "News           2\n",
      "\\N             5\n",
      "Western       20\n",
      "Musical       77\n",
      "War          105\n",
      "Sport        139\n",
      "Sci-Fi       232\n",
      "Music        238\n",
      "             count\n",
      "Documentary    518\n",
      "Mystery        527\n",
      "Adventure      730\n",
      "Crime          756\n",
      "Romance        786\n",
      "Horror         867\n",
      "Thriller      1169\n",
      "Action        1234\n",
      "Comedy        2527\n",
      "Drama         3946\n"
     ]
    }
   ],
   "source": [
    "#Add the rotated pc scores to as a column\n",
    "pc_scores = genre_encoded @ rotated_genres\n",
    "movie_dataset['genre_pc'] = list(pc_scores)\n",
    "\n",
    "# Flatten the genre lists and count occurrences\n",
    "genre_counts = Counter(itertools.chain.from_iterable(movie_dataset['genres']))\n",
    "\n",
    "# Convert to DataFrame for easier viewing\n",
    "genre_freq = pd.DataFrame.from_dict(genre_counts, orient='index', columns=['count'])\n",
    "genre_freq = genre_freq.sort_values(by='count', ascending=True)\n",
    "\n",
    "print(genre_freq.head(10)) \n",
    "print(genre_freq.tail(10))"
   ]
  },
  {
   "cell_type": "markdown",
   "id": "c67b1fa7",
   "metadata": {},
   "source": [
    "Because LightGBM can take categorical features but only when they are strings or values and not lists, we have to use the multi hot encoding of genres and add 25 more columns to the movie_dataset. This way, LightGBM will simply find the ideal splits in each category of genres (1 or 0) maximizing gain updates per split (how much polarization increases per split). \n",
    "\n",
    "Hence, this is the most optimal way to feed genres without sacrificing any information and handling genres which is a list of categories per movie appropriately. NOTE: We will still use the principal components we extracted from the 25 genres and compare the results. \n",
    "\n",
    "It could be that the principal components may lead to less overfitting than feeding all 25 genres, since the ladder includes more error and noise. Still, our research indicated that as a default it is optimal to use the categorical_feature method of LightGBM for a feature as genres. Similarly for topics and sentiments of themes but of course extraction of these two new categories is a necessity to feed them to Light GBM."
   ]
  },
  {
   "cell_type": "code",
   "execution_count": 17,
   "id": "fb55a853",
   "metadata": {},
   "outputs": [
    {
     "name": "stdout",
     "output_type": "stream",
     "text": [
      "Index(['averageRating', 'isAdult', 'startYear', 'runtimeMinutes', 'genres',\n",
      "       'themes', 'director', 'actors', 'grossWorldwide', 'movieType1M',\n",
      "       'movieType100M', 'theme_sentiment', 'theme_sentiment_label',\n",
      "       'theme_topic', 'theme_topic_label', 'genre_pc', 'Action', 'Adult',\n",
      "       'Adventure', 'Animation', 'Biography', 'Comedy', 'Crime', 'Documentary',\n",
      "       'Drama', 'Family', 'Fantasy', 'History', 'Horror', 'Music', 'Musical',\n",
      "       'Mystery', 'News', 'Romance', 'Sci-Fi', 'Sport', 'Talk-Show',\n",
      "       'Thriller', 'War', 'Western', '\\N'],\n",
      "      dtype='object')\n"
     ]
    }
   ],
   "source": [
    "#Convert Genres into categorical columns that lightgbm can use\n",
    "genre_encoded = mlb.fit_transform(movie_dataset['genres'])\n",
    "genre_columns = pd.DataFrame(genre_encoded, columns=mlb.classes_)\n",
    "genre_columns.index = movie_dataset.index\n",
    "movie_dataset = pd.concat([movie_dataset, genre_columns], axis=1)\n",
    "\n",
    "print(movie_dataset.columns)"
   ]
  },
  {
   "cell_type": "markdown",
   "id": "9b0a8bff",
   "metadata": {},
   "source": [
    "<hr style=\"height:2px;border-width:0;color:red;background-color:red\">\n",
    "\n",
    "## 2) Director and Actor Encoding"
   ]
  },
  {
   "cell_type": "markdown",
   "id": "49d98292",
   "metadata": {},
   "source": [
    "Both the directors and actors column have a high cardinality. This distribution is quite tricky to work with, as this leads to many categories if using conventional methods, which can lead to overfitting and high training time.\n",
    "\n",
    "So, we'll try two different methods for encoding these columns:\n",
    "1. **Frequency Encoding**. This involves replacing the original columns with new columns which have the frequency the directors and actors appear in the dataset. The reasoning for this is that directors and actors who continue to make high-quality and well-performing movies will continue to get funded, leading to them making more movies. This means that frequency encoding could be a good distinguishing feature for what makes a movie a blockbuster.\n",
    "2. **Target Encoding**. At first, we considered creating a heuristic metric that combines both gross worldwide income and average IMDB rating, but after some deliberation we decided to create two new columns, one for the average gross worldwide income, and one for the average averageRating, as this will lead better interpretability. In order to not predict the past from the future, we need to first split the data chronologically into training and testing datasets, measure the values for each director on the training dataset, and only then apply it to the testing dataset.\n",
    "\n",
    "Since the process of encoding for the directors and actors is extremely similar, with only minor changes, we decided to make functions to avoid code repitition and create a good flow in the notebook. Lets import the functions from an external \"director_actor_encoding.py\" file contained in the \"aux_files\" folder of the repository in order to perform the encoding."
   ]
  },
  {
   "cell_type": "code",
   "execution_count": 18,
   "id": "bdd06fd3-93ba-44c5-a49e-4c211bb717a9",
   "metadata": {},
   "outputs": [],
   "source": [
    "import sys\n",
    "sys.path.append(\"aux_files\")"
   ]
  },
  {
   "cell_type": "code",
   "execution_count": 19,
   "id": "d96f57e3",
   "metadata": {
    "scrolled": true
   },
   "outputs": [],
   "source": [
    "from director_actor_encoding import data_explore, remove_non_string, group_gw_and_ar, map_groups, map_default_values"
   ]
  },
  {
   "cell_type": "code",
   "execution_count": 20,
   "id": "231d5d2f",
   "metadata": {},
   "outputs": [],
   "source": [
    "movie_dataset = movie_dataset.copy()"
   ]
  },
  {
   "cell_type": "markdown",
   "id": "ddae9a27",
   "metadata": {},
   "source": [
    "<hr style=\"height:2px;border-width:0;color:red;background-color:red\">\n",
    "\n",
    "### 2.1) Preparing the Data for Actors and Directors"
   ]
  },
  {
   "cell_type": "markdown",
   "id": "135d5c98-a813-4157-a624-be9300116180",
   "metadata": {},
   "source": [
    "The directors column has high cardinality and low frequency, with 9371 unique values from the 11617 values overall (as seen in the unique values section of eda.ipynb). Before performing the encoding, it is important to first look at the data for any missing values. \n",
    "\n",
    "First, lets see if there are any missing values in the directors column.\n",
    "\n",
    "There are 79 entries whose datatype is a float. These are most likely NaN values, which are treated as floats. Lets check:"
   ]
  },
  {
   "cell_type": "code",
   "execution_count": 21,
   "id": "ca772a98",
   "metadata": {},
   "outputs": [
    {
     "name": "stdout",
     "output_type": "stream",
     "text": [
      "(director\n",
      "<class 'str'>    7569\n",
      "Name: count, dtype: int64, Series([], Name: director, dtype: object))\n"
     ]
    }
   ],
   "source": [
    "print(data_explore(movie_dataset, \"director\"))"
   ]
  },
  {
   "cell_type": "markdown",
   "id": "f3226001-da6f-42e9-935a-eb5f5a5aca5a",
   "metadata": {},
   "source": [
    "Indeed, lets remove these."
   ]
  },
  {
   "cell_type": "code",
   "execution_count": 22,
   "id": "da7ef8f4-22ba-4818-a942-c30affb73ed6",
   "metadata": {},
   "outputs": [
    {
     "name": "stdout",
     "output_type": "stream",
     "text": [
      "7569\n"
     ]
    }
   ],
   "source": [
    "remove_non_string(movie_dataset, \"director\")\n",
    "print(len(movie_dataset))"
   ]
  },
  {
   "cell_type": "markdown",
   "id": "5ec106d6",
   "metadata": {},
   "source": [
    "Although the process of encoding the actors appears to be extremely similar to the process of encoding directors, there is one key difference that must be accounted for: there are multiple actors that belong to a single movie, so this must be handled accordingly.\n",
    "\n",
    "In the exploratory data analysis (EDA), it was revealed that although the actors appear to be stored in a list (since they are in the format ['...'], this is not the case - the actors are stored as a string. Even though this was changed to work as a list in the EDA, the overall dataset was not changed. In this case, it would be useful if the actors are stored as a list since this way we can use the .exploding method to only have one actor per row, and make it easier to encode. So, lets make sure that the actors are indeed stored as a string, and if so, convert them into a list."
   ]
  },
  {
   "cell_type": "code",
   "execution_count": 23,
   "id": "655d8cb2",
   "metadata": {},
   "outputs": [
    {
     "name": "stdout",
     "output_type": "stream",
     "text": [
      "Type before conversion <class 'str'>\n",
      "Type after conversion <class 'list'>\n"
     ]
    }
   ],
   "source": [
    "# Printing the type of the column to ensure that it is indeed a string that needs converting\n",
    "print(\"Type before conversion\", type(movie_dataset['actors'].iloc[0]))\n",
    "\n",
    "# Converting the actors column from strings to lists in both the training and testing set\n",
    "movie_dataset['actors'] = movie_dataset['actors'].apply(ast.literal_eval)\n",
    "print(\"Type after conversion\", type(movie_dataset['actors'].iloc[0]))"
   ]
  },
  {
   "cell_type": "markdown",
   "id": "424141de",
   "metadata": {},
   "source": [
    "Now that we have ensured that the actors column is stored as a list, we need to change the way that the actors are stored per column so that we have only one actor per column.\n",
    "\n",
    "Lets use the .explode method which, rather than having all the actors in one row, it splits one movie into three rows, each containing an individual actor. Finally, since we will have one actor per row now, lets also change the name of the column \"actors\" to \"actor\" for clarity reasons (should be done in the training and testing data set)."
   ]
  },
  {
   "cell_type": "code",
   "execution_count": 24,
   "id": "7591a553",
   "metadata": {},
   "outputs": [
    {
     "name": "stdout",
     "output_type": "stream",
     "text": [
      "<class 'str'>\n"
     ]
    }
   ],
   "source": [
    "# Exploding the training data\n",
    "movie_dataset = movie_dataset.explode('actors').reset_index(drop=True)\n",
    "movie_dataset = movie_dataset.rename(columns={'actors': 'actor'})\n",
    "\n",
    "# Finally, we want to ensure that the exploding has converted the actors back into strings\n",
    "print(type(movie_dataset['actor'].iloc[0]))"
   ]
  },
  {
   "cell_type": "code",
   "execution_count": 25,
   "id": "7f3f89a2",
   "metadata": {},
   "outputs": [
    {
     "name": "stdout",
     "output_type": "stream",
     "text": [
      "(actor\n",
      "<class 'str'>      22397\n",
      "<class 'float'>       42\n",
      "Name: count, dtype: int64, 106     NaN\n",
      "618     NaN\n",
      "2844    NaN\n",
      "2959    NaN\n",
      "3665    NaN\n",
      "4188    NaN\n",
      "4745    NaN\n",
      "4746    NaN\n",
      "5175    NaN\n",
      "6281    NaN\n",
      "Name: actor, dtype: object)\n"
     ]
    }
   ],
   "source": [
    "print(data_explore(movie_dataset, \"actor\"))"
   ]
  },
  {
   "cell_type": "markdown",
   "id": "27f5583f",
   "metadata": {},
   "source": [
    "Now, we can do the same for directors where we check for any missing values"
   ]
  },
  {
   "cell_type": "code",
   "execution_count": 26,
   "id": "fac9c50f",
   "metadata": {},
   "outputs": [
    {
     "name": "stdout",
     "output_type": "stream",
     "text": [
      "22439\n"
     ]
    }
   ],
   "source": [
    "remove_non_string(movie_dataset, \"actor\")\n",
    "print(len(movie_dataset))"
   ]
  },
  {
   "cell_type": "markdown",
   "id": "afbe3118-2015-47d0-819e-8e6c2ec5530a",
   "metadata": {},
   "source": [
    "<hr style=\"height:2px;border-width:0;color:red;background-color:red\">\n",
    "\n",
    "### 2.2) Frequency encoding"
   ]
  },
  {
   "cell_type": "markdown",
   "id": "814ca9ea-b33b-4981-965f-a1ec347cc9d4",
   "metadata": {},
   "source": [
    "Now we can do the frequency encoding for the directors and the directors:"
   ]
  },
  {
   "cell_type": "code",
   "execution_count": 27,
   "id": "f7cdfcdc-afba-48b2-acf3-63f943c99b63",
   "metadata": {},
   "outputs": [
    {
     "name": "stdout",
     "output_type": "stream",
     "text": [
      "        director  director_frequencies\n",
      "0  Simon McQuoid                     3\n",
      "1  Simon McQuoid                     3\n",
      "2  Simon McQuoid                     3\n",
      "3     J.J. Perry                     3\n",
      "      J.J. Perry                     3\n",
      "\n",
      "              actor  actor_frequencies\n",
      "0         Lewis Tan                1.0\n",
      "1   Jessica McNamee                2.0\n",
      "2       Josh Lawson                2.0\n",
      "3     Dave Bautista                4.0\n",
      "4  Dmitrij Kalacsov                1.0\n"
     ]
    }
   ],
   "source": [
    "# Director frequency encoding\n",
    "director_frequencies = movie_dataset[\"director\"].value_counts()\n",
    "movie_dataset.loc[:, \"director_frequencies\"] = movie_dataset[\"director\"].map(director_frequencies)\n",
    "print(movie_dataset[[\"director\", \"director_frequencies\"]].head(5), \"\\n\")\n",
    "\n",
    "# -----------------------------------\n",
    "# Actor frequency encoding\n",
    "actor_frequencies = movie_dataset[\"actor\"].value_counts()\n",
    "movie_dataset.loc[:, \"actor_frequencies\"] = movie_dataset[\"actor\"].map(actor_frequencies)\n",
    "print(movie_dataset[[\"actor\", \"actor_frequencies\"]].head(5))"
   ]
  },
  {
   "cell_type": "markdown",
   "id": "757f9bc2",
   "metadata": {},
   "source": [
    "<hr style=\"height:2px;border-width:0;color:red;background-color:red\">\n",
    "\n",
    "### 2.3) Target encoding"
   ]
  },
  {
   "cell_type": "markdown",
   "id": "4ec879af-448a-41b5-b1c8-07835965c107",
   "metadata": {},
   "source": [
    "Now we can do our next approach, the target encoding. As mentioned earlier, we must first split the data chronologically into a training and testing dataset:"
   ]
  },
  {
   "cell_type": "code",
   "execution_count": 28,
   "id": "4176a837-2eff-432e-82ef-02be1648e373",
   "metadata": {},
   "outputs": [
    {
     "name": "stdout",
     "output_type": "stream",
     "text": [
      "Train_set proportion: 0.751\n",
      "Test_set proportion: 0.249\n"
     ]
    }
   ],
   "source": [
    "# Filtering the gross income to above 1M\n",
    "movie_dataset = movie_dataset[movie_dataset['grossWorldwide'] >= 100000].copy()\n",
    "\n",
    "train_set = movie_dataset[movie_dataset[\"startYear\"] <= 2023].copy()\n",
    "test_set = movie_dataset[movie_dataset[\"startYear\"] > 2023].copy()\n",
    "\n",
    "print(f\"Train_set proportion: {len(train_set)/len(movie_dataset):.3f}\")\n",
    "print(f\"Test_set proportion: {len(test_set)/len(movie_dataset):.3f}\")"
   ]
  },
  {
   "cell_type": "markdown",
   "id": "5b70360b-9cbc-428f-a967-b3f04216a99f",
   "metadata": {},
   "source": [
    "This is an adequate train/test split. Now we need to find the average grossWordwide and average averageRating for each director and actor. To do this we will use the groupby method:"
   ]
  },
  {
   "cell_type": "code",
   "execution_count": 29,
   "id": "1c4aefa7-985e-4e81-a8b3-3b15688f562f",
   "metadata": {},
   "outputs": [
    {
     "name": "stdout",
     "output_type": "stream",
     "text": [
      "director\n",
      "A.L. Vijay         7.917440e+05\n",
      "A.R. Murugadoss    1.738535e+06\n",
      "A.V. Rockwell      3.463680e+06\n",
      "Aanand L. Rai      3.669145e+05\n",
      "Aaron Horvath      1.360848e+09\n",
      "Name: grossWorldwide, dtype: float64 \n",
      "\n",
      "director\n",
      "A.L. Vijay         5.90\n",
      "A.R. Murugadoss    5.90\n",
      "A.V. Rockwell      7.00\n",
      "Aanand L. Rai      5.95\n",
      "Aaron Horvath      7.00\n",
      "Name: averageRating, dtype: float64 \n",
      "\n",
      "actor\n",
      "50 Cent          37917985.0\n",
      "A.J. Lister        138617.0\n",
      "Aadhi             2796782.0\n",
      "Aamir Khan       12093536.0\n",
      "Aaron Bezemer     2244164.0\n",
      "Name: grossWorldwide, dtype: float64 \n",
      "\n",
      "actor\n",
      "50 Cent          4.8\n",
      "A.J. Lister      6.2\n",
      "Aadhi            4.8\n",
      "Aamir Khan       5.6\n",
      "Aaron Bezemer    4.8\n",
      "Name: averageRating, dtype: float64 \n",
      "\n"
     ]
    }
   ],
   "source": [
    "# Grouping directors\n",
    "directors_grouped_gw, directors_grouped_ar = group_gw_and_ar(train_set, \"director\")\n",
    "\n",
    "print(directors_grouped_gw.head(5), \"\\n\")\n",
    "print(directors_grouped_ar.head(5), \"\\n\")\n",
    "\n",
    "# -----------------------------------\n",
    "# Grouping actors\n",
    "actor_grouped_gw, actor_grouped_ar = group_gw_and_ar(train_set, \"actor\")\n",
    "\n",
    "print(actor_grouped_gw.head(5), \"\\n\")\n",
    "print(actor_grouped_ar.head(5), \"\\n\")"
   ]
  },
  {
   "cell_type": "markdown",
   "id": "3ba06315-3fbb-4061-a2df-c878e0fbf256",
   "metadata": {},
   "source": [
    "These two new series can now be used to assign a value to two new columns in train_set and test_set. These columns will be called director_avg_grossWorldwide and director_avg_averageRating. Lets do it for the training dataset first:"
   ]
  },
  {
   "cell_type": "code",
   "execution_count": 30,
   "id": "b1b5f7da-6946-40d7-b2cc-df243dc807c2",
   "metadata": {},
   "outputs": [],
   "source": [
    "# Creating the new columns in training dataset for directors \n",
    "train_set[\"director_avg_grossWorldwide\"] = None\n",
    "train_set[\"director_avg_averageRating\"] = None\n",
    "\n",
    "# -----------------------------------\n",
    "# Creating the new columns in training dataset for actors\n",
    "train_set[\"actor_avg_grossWorldwide\"] = None\n",
    "train_set[\"actor_avg_averageRating\"] = None"
   ]
  },
  {
   "cell_type": "code",
   "execution_count": 31,
   "id": "ee92034b",
   "metadata": {},
   "outputs": [],
   "source": [
    "# Mapping the grouped series created earlier that includes the average gross income/rating for each \n",
    "# director onto train_set for directors\n",
    "d_map_gw, d_map_ar = map_groups(train_set, \"director\", directors_grouped_gw, directors_grouped_ar)\n",
    "\n",
    "train_set[\"director_avg_grossWorldwide\"] = d_map_gw\n",
    "train_set[\"director_avg_averageRating\"] = d_map_ar\n",
    "\n",
    "# -----------------------------------\n",
    "# Mapping the grouped series created earlier that includes the average gross income/rating for each \n",
    "# director onto train_set for actors\n",
    "a_map_gw, a_map_ar = map_groups(train_set, \"actor\", actor_grouped_gw, actor_grouped_ar)\n",
    "\n",
    "train_set[\"actor_avg_grossWorldwide\"] = a_map_gw\n",
    "train_set[\"actor_avg_averageRating\"] = a_map_ar"
   ]
  },
  {
   "cell_type": "markdown",
   "id": "c907c8a8-33a2-4081-896a-bbe9b2e1af20",
   "metadata": {},
   "source": [
    "Next, we do the same for the testing dataset. Due to the sheer amount of unique values, however, this dataset will include directors that are not in the grouped object i.e. directors who are making their first movie. For directors such as these, we will fill in these values with the average gross income and average rating for all directors that have made only one movie, as taking the global average would be a bit too optimistic in my opinion. \n",
    "\n",
    "There is a notable caveat with this approach, however, as it assumes that actors who made movies in the test_set haven't made any movies before the time period of train_set i.e. before 2020. It could be the case that an esteemed director who has made many popular movies in 2010-2015, but who hasn't made any movies between 2020 and 2024, makes a movie in 2025. In this case we will take the default grossWorldwide and default averageRating, which might not be the optimal choice."
   ]
  },
  {
   "cell_type": "code",
   "execution_count": 32,
   "id": "c173aeda-7158-493a-8b66-116b0c9a0208",
   "metadata": {
    "scrolled": true
   },
   "outputs": [
    {
     "name": "stdout",
     "output_type": "stream",
     "text": [
      "The default grossWorldwide value for director is: 2543382.0625\n",
      "The default averageRating value for director is: 7.3\n",
      "The default grossWorldwide value for actor is: 12229146.569836445\n",
      "The default averageRating value for actor is: 6.039122883195832\n"
     ]
    }
   ],
   "source": [
    "# Creating the new columns in the original test dataset for directors\n",
    "test_set[\"director_avg_grossWorldwide\"] = None\n",
    "test_set[\"director_avg_averageRating\"] = None\n",
    "\n",
    "test_d_gw, test_d_ar = map_default_values(train_set, \"director\", test_set, directors_grouped_gw, directors_grouped_ar)\n",
    "\n",
    "test_set[\"director_avg_grossWorldwide\"] = test_d_gw\n",
    "test_set[\"director_avg_averageRating\"] = test_d_ar\n",
    "\n",
    "# -----------------------------------\n",
    "# Creating the new columns in the original test dataset for actors\n",
    "test_set[\"actor_avg_grossWorldwide\"] = None\n",
    "test_set[\"actor_avg_averageRating\"] = None\n",
    "\n",
    "test_a_gw, test_a_ar = map_default_values(train_set, \"actor\", test_set, actor_grouped_gw, actor_grouped_ar)\n",
    "\n",
    "test_set[\"actor_avg_grossWorldwide\"] = test_a_gw\n",
    "test_set[\"actor_avg_averageRating\"] = test_a_ar"
   ]
  },
  {
   "cell_type": "markdown",
   "id": "3192621c-1332-410b-b9a1-e944f04c3dec",
   "metadata": {},
   "source": [
    "We had a bug with null values in the codeblock above, just checking for them:"
   ]
  },
  {
   "cell_type": "code",
   "execution_count": 33,
   "id": "096abab5-f4f4-4631-b7c8-f68529ef0dd4",
   "metadata": {},
   "outputs": [
    {
     "name": "stdout",
     "output_type": "stream",
     "text": [
      "0\n",
      "0\n"
     ]
    }
   ],
   "source": [
    "print(test_set['director_avg_grossWorldwide'].isna().sum())\n",
    "print(test_set['director_avg_averageRating'].isna().sum())"
   ]
  },
  {
   "cell_type": "markdown",
   "id": "f738d90a-ff05-417a-aa4a-145553e9e582",
   "metadata": {},
   "source": [
    "<hr style=\"height:2px;border-width:0;color:red;background-color:red\">\n",
    "\n",
    "## 3) Saving the Datasets"
   ]
  },
  {
   "cell_type": "markdown",
   "id": "8e44857b-669e-438d-91ac-a98c25eb5885",
   "metadata": {},
   "source": [
    "Now that we've finished the encoding, lets save the altered movie_dataset, the preprocessed train dataset, and preprocessed test dataset to csvs to use in model.ipynb:"
   ]
  },
  {
   "cell_type": "code",
   "execution_count": 34,
   "id": "685a0848-db06-4b3c-9fb6-2a52ecaf2697",
   "metadata": {},
   "outputs": [],
   "source": [
    "movie_dataset.to_csv(\"datasets/movie_dataset_preprocessed.csv\")\n",
    "train_set.to_csv(\"datasets/train_preprocessed.csv\")\n",
    "test_set.to_csv(\"datasets/test_preprocessed.csv\")"
   ]
  }
 ],
 "metadata": {
  "kernelspec": {
   "display_name": "Python 3 (ipykernel)",
   "language": "python",
   "name": "python3"
  },
  "language_info": {
   "codemirror_mode": {
    "name": "ipython",
    "version": 3
   },
   "file_extension": ".py",
   "mimetype": "text/x-python",
   "name": "python",
   "nbconvert_exporter": "python",
   "pygments_lexer": "ipython3",
   "version": "3.10.16"
  }
 },
 "nbformat": 4,
 "nbformat_minor": 5
}
