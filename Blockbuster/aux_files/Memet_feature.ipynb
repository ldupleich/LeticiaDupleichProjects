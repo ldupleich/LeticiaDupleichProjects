{
 "cells": [
  {
   "cell_type": "markdown",
   "id": "36775d6e",
   "metadata": {},
   "source": [
    "Functions for explaratory data analysis:"
   ]
  },
  {
   "cell_type": "code",
   "execution_count": 4,
   "id": "81c92207",
   "metadata": {},
   "outputs": [
    {
     "ename": "NameError",
     "evalue": "name 'sns' is not defined",
     "output_type": "error",
     "traceback": [
      "\u001b[1;31m---------------------------------------------------------------------------\u001b[0m",
      "\u001b[1;31mNameError\u001b[0m                                 Traceback (most recent call last)",
      "Cell \u001b[1;32mIn[4], line 3\u001b[0m\n\u001b[0;32m      1\u001b[0m \u001b[38;5;66;03m# === Average rating of Adult vs non-adult movies ===\u001b[39;00m\n\u001b[1;32m----> 3\u001b[0m \u001b[43msns\u001b[49m\u001b[38;5;241m.\u001b[39mboxplot(data\u001b[38;5;241m=\u001b[39mdf, x\u001b[38;5;241m=\u001b[39m\u001b[38;5;124m\"\u001b[39m\u001b[38;5;124misAdult\u001b[39m\u001b[38;5;124m\"\u001b[39m, y\u001b[38;5;241m=\u001b[39m\u001b[38;5;124m\"\u001b[39m\u001b[38;5;124maverageRating\u001b[39m\u001b[38;5;124m\"\u001b[39m)\n\u001b[0;32m      4\u001b[0m plt\u001b[38;5;241m.\u001b[39mtitle(\u001b[38;5;124m\"\u001b[39m\u001b[38;5;124mIMDB Rating by Adult Classification\u001b[39m\u001b[38;5;124m\"\u001b[39m)\n\u001b[0;32m      5\u001b[0m plt\u001b[38;5;241m.\u001b[39mshow()\n",
      "\u001b[1;31mNameError\u001b[0m: name 'sns' is not defined"
     ]
    }
   ],
   "source": [
    "# === Average rating of Adult vs non-adult movies ===\n",
    "import seaborn as sns\n",
    "import matplotlib.pyplot as plt\n",
    "\n",
    "sns.boxplot(data=df, x=\"isAdult\", y=\"averageRating\")\n",
    "plt.title(\"IMDB Rating by Adult Classification\")\n",
    "plt.show()"
   ]
  },
  {
   "cell_type": "code",
   "execution_count": null,
   "id": "347ef587",
   "metadata": {},
   "outputs": [],
   "source": []
  },
  {
   "cell_type": "code",
   "execution_count": null,
   "id": "a087c35b",
   "metadata": {},
   "outputs": [],
   "source": [
    "# === Gross Worldwide Income of Adult vs Non-Adult Movies ===\n",
    "\n",
    "sns.boxplot(data=df, x=\"isAdult\", y=\"gross_worldwide\")\n",
    "plt.title(\"Gross Worldwide by Adult Classification\")\n",
    "plt.ylabel(\"Gross Worldwide ($)\")\n",
    "plt.show()"
   ]
  },
  {
   "cell_type": "code",
   "execution_count": null,
   "id": "04e4e759",
   "metadata": {},
   "outputs": [],
   "source": [
    "# === Number of movies per year ===\n",
    "\n",
    "sns.countplot(data=df, x=\"startYear\")\n",
    "plt.xticks(rotation=90)\n",
    "plt.title(\"Number of Movies by Year\")\n",
    "plt.show()"
   ]
  },
  {
   "cell_type": "code",
   "execution_count": null,
   "id": "a5c1b269",
   "metadata": {},
   "outputs": [],
   "source": [
    "# === Actors and the number of times they starred in movies ===\n",
    "\n",
    "from collections import Counter\n",
    "\n",
    "actor_counter = Counter()\n",
    "\n",
    "# Handle both lists and comma-separated strings\n",
    "df[\"actors\"].dropna().apply(\n",
    "    lambda x: actor_counter.update(\n",
    "        [a.strip() for a in x] if isinstance(x, list) else [a.strip() for a in x.split(',')]\n",
    "    )\n",
    ")\n",
    "\n",
    "# Convert to DataFrame and show top 20\n",
    "top_actors = pd.DataFrame(actor_counter.most_common(20), columns=[\"Actor\", \"Count\"])\n",
    "\n",
    "import seaborn as sns\n",
    "import matplotlib.pyplot as plt\n",
    "\n",
    "sns.barplot(data=top_actors, x=\"Count\", y=\"Actor\")\n",
    "plt.title(\"Top 20 Most Recurring Actors\")\n",
    "plt.show()"
   ]
  },
  {
   "cell_type": "code",
   "execution_count": null,
   "id": "c3021c3d",
   "metadata": {},
   "outputs": [],
   "source": [
    "# === Actors and the average gross of the movies they've starred in ===\n",
    "\n",
    "from collections import defaultdict, Counter\n",
    "import pandas as pd\n",
    "import matplotlib.pyplot as plt\n",
    "\n",
    "actor_grosses = defaultdict(list)\n",
    "\n",
    "# Fill in actor_grosses\n",
    "df.dropna(subset=[\"gross_worldwide\", \"actors\"]).apply(\n",
    "    lambda row: [\n",
    "        actor_grosses[a.strip()].append(float(str(row[\"gross_worldwide\"]).replace(\"$\", \"\").replace(\",\", \"\")))\n",
    "        for a in (row[\"actors\"] if isinstance(row[\"actors\"], list) else row[\"actors\"].split(','))\n",
    "    ],\n",
    "    axis=1\n",
    ")\n",
    "\n",
    "# Taking Averages: \n",
    "\n",
    "actor_avg_gross = {actor: sum(grosses)/len(grosses) for actor, grosses in actor_grosses.items()}\n",
    "\n",
    "top20 = sorted(actor_avg_gross.items(), key=lambda x: x[1], reverse=True)[:20]\n",
    "top20_df = pd.DataFrame(top20, columns=[\"Actor\", \"Average Gross\"])\n",
    "\n",
    "top20_df.plot(kind=\"barh\", x=\"Actor\", y=\"Average Gross\", legend=False)\n",
    "plt.title(\"Top 20 Actors by Avg Gross (Worldwide)\")\n",
    "plt.xlabel(\"Average Gross ($)\")\n",
    "plt.gca().invert_yaxis()\n",
    "plt.tight_layout()\n",
    "plt.show()"
   ]
  },
  {
   "cell_type": "code",
   "execution_count": null,
   "id": "c2a37c65",
   "metadata": {},
   "outputs": [],
   "source": [
    "# === Actors and the average rating of the movies they've starred in ===\n",
    "\n",
    "from collections import defaultdict, Counter\n",
    "import pandas as pd\n",
    "import matplotlib.pyplot as plt\n",
    "\n",
    "actor_ratings = defaultdict(list)\n",
    "\n",
    "# Fill in actor_ratings\n",
    "df.dropna(subset=[\"averageRating\", \"actors\"]).apply(\n",
    "    lambda row: [\n",
    "        actor_ratings[a.strip()].append(float(row[\"averageRating\"]))\n",
    "        for a in (row[\"actors\"] if isinstance(row[\"actors\"], list) else row[\"actors\"].split(','))\n",
    "    ],\n",
    "    axis=1\n",
    ")\n",
    "\n",
    "# Taking Averages:\n",
    "actor_avg_rating = {actor: sum(ratings)/len(ratings) for actor, ratings in actor_ratings.items()}\n",
    "\n",
    "# Top 20 by average rating\n",
    "top20 = sorted(actor_avg_rating.items(), key=lambda x: x[1], reverse=True)[:20]\n",
    "top20_df = pd.DataFrame(top20, columns=[\"Actor\", \"Average Rating\"])\n",
    "\n",
    "# Plot\n",
    "top20_df.plot(kind=\"barh\", x=\"Actor\", y=\"Average Rating\", legend=False)\n",
    "plt.title(\"Top 20 Actors by Avg IMDB Rating\")\n",
    "plt.xlabel(\"Average IMDB Rating\")\n",
    "plt.gca().invert_yaxis()\n",
    "plt.tight_layout()\n",
    "plt.show()"
   ]
  }
 ],
 "metadata": {
  "kernelspec": {
   "display_name": "Python 3 (ipykernel)",
   "language": "python",
   "name": "python3"
  },
  "language_info": {
   "codemirror_mode": {
    "name": "ipython",
    "version": 3
   },
   "file_extension": ".py",
   "mimetype": "text/x-python",
   "name": "python",
   "nbconvert_exporter": "python",
   "pygments_lexer": "ipython3",
   "version": "3.10.8"
  }
 },
 "nbformat": 4,
 "nbformat_minor": 5
}
